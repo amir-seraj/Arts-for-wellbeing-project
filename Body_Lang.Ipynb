{
 "cells": [
  {
   "cell_type": "code",
   "execution_count": 70,
   "metadata": {},
   "outputs": [],
   "source": [
    "import cv2\n",
    "import mediapipe as mp"
   ]
  },
  {
   "cell_type": "code",
   "execution_count": 71,
   "metadata": {},
   "outputs": [],
   "source": [
    "mp_drawings=mp.solutions.drawing_utils\n",
    "mp_holistic=mp.solutions.holistic"
   ]
  },
  {
   "cell_type": "code",
   "execution_count": 72,
   "metadata": {},
   "outputs": [
    {
     "name": "stderr",
     "output_type": "stream",
     "text": [
      "C:\\Users\\Mummyslaps\\AppData\\Roaming\\Python\\Python312\\site-packages\\google\\protobuf\\symbol_database.py:55: UserWarning: SymbolDatabase.GetPrototype() is deprecated. Please use message_factory.GetMessageClass() instead. SymbolDatabase.GetPrototype() will be removed soon.\n",
      "  warnings.warn('SymbolDatabase.GetPrototype() is deprecated. Please '\n"
     ]
    }
   ],
   "source": [
    "import cv2\n",
    "import mediapipe as mp\n",
    "\n",
    "# Initialize MediaPipe Holistic model and drawing utilities\n",
    "mp_holistic = mp.solutions.holistic\n",
    "mp_drawing = mp.solutions.drawing_utils\n",
    "\n",
    "cap = cv2.VideoCapture(0)\n",
    "with mp_holistic.Holistic(min_detection_confidence=0.5, min_tracking_confidence=0.5) as holistic:\n",
    "    while cap.isOpened():\n",
    "        ret, frame = cap.read()\n",
    "        if not ret:\n",
    "            break\n",
    "\n",
    "        # Recolor Feed\n",
    "        image = cv2.cvtColor(frame, cv2.COLOR_BGR2RGB)\n",
    "        image.flags.writeable = False\n",
    "\n",
    "        # Make Detections\n",
    "        results = holistic.process(image)\n",
    "\n",
    "        # Recolor back to BGR for rendering\n",
    "        image = cv2.cvtColor(image, cv2.COLOR_RGB2BGR)\n",
    "\n",
    "        # Draw Face Landmarks\n",
    "        if results.face_landmarks:\n",
    "            mp_drawing.draw_landmarks(\n",
    "                image, results.face_landmarks, mp_holistic.FACEMESH_TESSELATION,\n",
    "                mp_drawing.DrawingSpec(color=(80, 110, 10), thickness=1, circle_radius=1),\n",
    "                mp_drawing.DrawingSpec(color=(80, 256, 121), thickness=1, circle_radius=1)\n",
    "            )\n",
    "\n",
    "        # Draw Right and Left Hand Landmarks\n",
    "        if results.left_hand_landmarks:\n",
    "            mp_drawing.draw_landmarks(\n",
    "                image, results.left_hand_landmarks, mp_holistic.HAND_CONNECTIONS,\n",
    "                mp_drawing.DrawingSpec(color=(121, 22, 76), thickness=2, circle_radius=4),\n",
    "                mp_drawing.DrawingSpec(color=(121, 44, 250), thickness=2, circle_radius=2)\n",
    "            )\n",
    "\n",
    "        if results.right_hand_landmarks:\n",
    "            mp_drawing.draw_landmarks(\n",
    "                image, results.right_hand_landmarks, mp_holistic.HAND_CONNECTIONS,\n",
    "                mp_drawing.DrawingSpec(color=(80, 22, 10), thickness=2, circle_radius=4),\n",
    "                mp_drawing.DrawingSpec(color=(80, 44, 121), thickness=2, circle_radius=2)\n",
    "            )\n",
    "\n",
    "        # Draw Pose Landmarks\n",
    "        if results.pose_landmarks:\n",
    "            \n",
    "            mp_drawing.draw_landmarks(\n",
    "                image, results.pose_landmarks, mp_holistic.POSE_CONNECTIONS,\n",
    "                mp_drawing.DrawingSpec(color=(245, 117, 66), thickness=2, circle_radius=4),\n",
    "                mp_drawing.DrawingSpec(color=(245, 66, 230), thickness=2, circle_radius=2)\n",
    "            )\n",
    "\n",
    "        # Display the resulting frame\n",
    "        cv2.imshow(\"Raw Webcam Feed\", image)\n",
    "        if cv2.waitKey(10) & 0xFF == ord('q'):\n",
    "            break\n",
    "\n",
    "cap.release()\n",
    "cv2.destroyAllWindows()\n"
   ]
  },
  {
   "cell_type": "code",
   "execution_count": 74,
   "metadata": {},
   "outputs": [
    {
     "data": {
      "text/plain": [
       "501"
      ]
     },
     "execution_count": 74,
     "metadata": {},
     "output_type": "execute_result"
    }
   ],
   "source": [
    "num_coords= len(results.pose_landmarks.landmark)+len(results.face_landmarks.landmark)\n",
    "num_coords"
   ]
  },
  {
   "cell_type": "code",
   "execution_count": 75,
   "metadata": {},
   "outputs": [],
   "source": [
    "landmarks= ['class']\n",
    "for val in range(1,num_coords+1):\n",
    "    landmarks+=[\"x{}\".format(val), \"y{}\".format(val), \"z{}\".format(val), \"v{}\".format(val)]\n"
   ]
  },
  {
   "cell_type": "code",
   "execution_count": 77,
   "metadata": {},
   "outputs": [],
   "source": [
    "import csv\n",
    "with open(\"coords.csv\", mode=\"w\", newline=\"\") as f:\n",
    "    csv_writer=csv.writer(f,delimiter=\",\", quotechar='\"',quoting=csv.QUOTE_MINIMAL)\n",
    "    csv_writer.writerow(landmarks)"
   ]
  },
  {
   "cell_type": "code",
   "execution_count": 84,
   "metadata": {},
   "outputs": [],
   "source": [
    "class_name = \"victorious\""
   ]
  },
  {
   "cell_type": "code",
   "execution_count": 85,
   "metadata": {},
   "outputs": [
    {
     "name": "stderr",
     "output_type": "stream",
     "text": [
      "C:\\Users\\Mummyslaps\\AppData\\Roaming\\Python\\Python312\\site-packages\\google\\protobuf\\symbol_database.py:55: UserWarning: SymbolDatabase.GetPrototype() is deprecated. Please use message_factory.GetMessageClass() instead. SymbolDatabase.GetPrototype() will be removed soon.\n",
      "  warnings.warn('SymbolDatabase.GetPrototype() is deprecated. Please '\n"
     ]
    }
   ],
   "source": [
    "cap = cv2.VideoCapture(0)\n",
    "with mp_holistic.Holistic(min_detection_confidence=0.5, min_tracking_confidence=0.5) as holistic:\n",
    "    while cap.isOpened():\n",
    "        ret, frame = cap.read()\n",
    "        if not ret:\n",
    "            break\n",
    "\n",
    "        # Recolor Feed\n",
    "        image = cv2.cvtColor(frame, cv2.COLOR_BGR2RGB)\n",
    "        image.flags.writeable = False\n",
    "\n",
    "        # Make Detections\n",
    "        results = holistic.process(image)\n",
    "\n",
    "        # Recolor back to BGR for rendering\n",
    "        image = cv2.cvtColor(image, cv2.COLOR_RGB2BGR)\n",
    "\n",
    "        # Draw Face Landmarks\n",
    "        if results.face_landmarks:\n",
    "            mp_drawing.draw_landmarks(\n",
    "                image, results.face_landmarks, mp_holistic.FACEMESH_TESSELATION,\n",
    "                mp_drawing.DrawingSpec(color=(80, 110, 10), thickness=1, circle_radius=1),\n",
    "                mp_drawing.DrawingSpec(color=(80, 256, 121), thickness=1, circle_radius=1)\n",
    "            )\n",
    "\n",
    "        # Draw Right and Left Hand Landmarks\n",
    "        if results.left_hand_landmarks:\n",
    "            mp_drawing.draw_landmarks(\n",
    "                image, results.left_hand_landmarks, mp_holistic.HAND_CONNECTIONS,\n",
    "                mp_drawing.DrawingSpec(color=(121, 22, 76), thickness=2, circle_radius=4),\n",
    "                mp_drawing.DrawingSpec(color=(121, 44, 250), thickness=2, circle_radius=2)\n",
    "            )\n",
    "\n",
    "        if results.right_hand_landmarks:\n",
    "            mp_drawing.draw_landmarks(\n",
    "                image, results.right_hand_landmarks, mp_holistic.HAND_CONNECTIONS,\n",
    "                mp_drawing.DrawingSpec(color=(80, 22, 10), thickness=2, circle_radius=4),\n",
    "                mp_drawing.DrawingSpec(color=(80, 44, 121), thickness=2, circle_radius=2)\n",
    "            )\n",
    "\n",
    "        # Draw Pose Landmarks\n",
    "        if results.pose_landmarks:\n",
    "            mp_drawing.draw_landmarks(\n",
    "                image, results.pose_landmarks, mp_holistic.POSE_CONNECTIONS,\n",
    "                mp_drawing.DrawingSpec(color=(245, 117, 66), thickness=2, circle_radius=4),\n",
    "                mp_drawing.DrawingSpec(color=(245, 66, 230), thickness=2, circle_radius=2)\n",
    "            )\n",
    "        \n",
    "        # Export Coordinates\n",
    "        try:\n",
    "            # Pose landmarks\n",
    "            pose = results.pose_landmarks.landmark\n",
    "            pose_row = list(np.array([[landmark.x, landmark.y, landmark.z, landmark.visibility] for landmark in pose]).flatten())\n",
    "            \n",
    "            # Face landmarks\n",
    "            face = results.face_landmarks.landmark\n",
    "            face_row = list(np.array([[landmark.x, landmark.y, landmark.z, landmark.visibility] for landmark in face]).flatten())\n",
    "            \n",
    "            # Combine pose and face landmarks in a row\n",
    "            row = pose_row + face_row\n",
    "            \n",
    "            # Insert class name\n",
    "            row.insert(0, class_name)\n",
    "\n",
    "            # Write row to CSV\n",
    "            with open('coords.csv', mode=\"a\", newline=\"\") as f:\n",
    "                csv_writer = csv.writer(f, delimiter=\",\", quotechar='\"', quoting=csv.QUOTE_MINIMAL)\n",
    "                csv_writer.writerow(row)\n",
    "        except:\n",
    "            pass\n",
    "\n",
    "        # Display the resulting frame\n",
    "        cv2.imshow(\"Raw Webcam Feed\", image)\n",
    "        if cv2.waitKey(10) & 0xFF == ord('q'):\n",
    "            break\n",
    "\n",
    "cap.release()\n",
    "cv2.destroyAllWindows()\n"
   ]
  },
  {
   "cell_type": "code",
   "execution_count": 86,
   "metadata": {},
   "outputs": [],
   "source": [
    "import pandas as pd\n",
    "from sklearn.model_selection import train_test_split"
   ]
  },
  {
   "cell_type": "code",
   "execution_count": 97,
   "metadata": {},
   "outputs": [],
   "source": [
    "df=pd.read_csv(\"./coords.csv\")"
   ]
  },
  {
   "cell_type": "code",
   "execution_count": 98,
   "metadata": {},
   "outputs": [
    {
     "data": {
      "text/html": [
       "<div>\n",
       "<style scoped>\n",
       "    .dataframe tbody tr th:only-of-type {\n",
       "        vertical-align: middle;\n",
       "    }\n",
       "\n",
       "    .dataframe tbody tr th {\n",
       "        vertical-align: top;\n",
       "    }\n",
       "\n",
       "    .dataframe thead th {\n",
       "        text-align: right;\n",
       "    }\n",
       "</style>\n",
       "<table border=\"1\" class=\"dataframe\">\n",
       "  <thead>\n",
       "    <tr style=\"text-align: right;\">\n",
       "      <th></th>\n",
       "      <th>class</th>\n",
       "      <th>x1</th>\n",
       "      <th>y1</th>\n",
       "      <th>z1</th>\n",
       "      <th>v1</th>\n",
       "      <th>x2</th>\n",
       "      <th>y2</th>\n",
       "      <th>z2</th>\n",
       "      <th>v2</th>\n",
       "      <th>x3</th>\n",
       "      <th>...</th>\n",
       "      <th>z499</th>\n",
       "      <th>v499</th>\n",
       "      <th>x500</th>\n",
       "      <th>y500</th>\n",
       "      <th>z500</th>\n",
       "      <th>v500</th>\n",
       "      <th>x501</th>\n",
       "      <th>y501</th>\n",
       "      <th>z501</th>\n",
       "      <th>v501</th>\n",
       "    </tr>\n",
       "  </thead>\n",
       "  <tbody>\n",
       "    <tr>\n",
       "      <th>506</th>\n",
       "      <td>victorious</td>\n",
       "      <td>0.497044</td>\n",
       "      <td>0.506372</td>\n",
       "      <td>-0.907528</td>\n",
       "      <td>0.999970</td>\n",
       "      <td>0.515123</td>\n",
       "      <td>0.446296</td>\n",
       "      <td>-0.864572</td>\n",
       "      <td>0.999940</td>\n",
       "      <td>0.531935</td>\n",
       "      <td>...</td>\n",
       "      <td>-0.000790</td>\n",
       "      <td>0.0</td>\n",
       "      <td>0.561646</td>\n",
       "      <td>0.447850</td>\n",
       "      <td>0.019354</td>\n",
       "      <td>0.0</td>\n",
       "      <td>0.565955</td>\n",
       "      <td>0.441682</td>\n",
       "      <td>0.020391</td>\n",
       "      <td>0.0</td>\n",
       "    </tr>\n",
       "    <tr>\n",
       "      <th>507</th>\n",
       "      <td>victorious</td>\n",
       "      <td>0.497347</td>\n",
       "      <td>0.506405</td>\n",
       "      <td>-0.936294</td>\n",
       "      <td>0.999961</td>\n",
       "      <td>0.515397</td>\n",
       "      <td>0.446337</td>\n",
       "      <td>-0.877889</td>\n",
       "      <td>0.999909</td>\n",
       "      <td>0.532181</td>\n",
       "      <td>...</td>\n",
       "      <td>-0.001668</td>\n",
       "      <td>0.0</td>\n",
       "      <td>0.564035</td>\n",
       "      <td>0.447079</td>\n",
       "      <td>0.018356</td>\n",
       "      <td>0.0</td>\n",
       "      <td>0.568506</td>\n",
       "      <td>0.440780</td>\n",
       "      <td>0.019356</td>\n",
       "      <td>0.0</td>\n",
       "    </tr>\n",
       "    <tr>\n",
       "      <th>508</th>\n",
       "      <td>victorious</td>\n",
       "      <td>0.498790</td>\n",
       "      <td>0.506358</td>\n",
       "      <td>-0.922406</td>\n",
       "      <td>0.999951</td>\n",
       "      <td>0.518112</td>\n",
       "      <td>0.446252</td>\n",
       "      <td>-0.861414</td>\n",
       "      <td>0.999881</td>\n",
       "      <td>0.534440</td>\n",
       "      <td>...</td>\n",
       "      <td>-0.002450</td>\n",
       "      <td>0.0</td>\n",
       "      <td>0.565755</td>\n",
       "      <td>0.447041</td>\n",
       "      <td>0.017801</td>\n",
       "      <td>0.0</td>\n",
       "      <td>0.570280</td>\n",
       "      <td>0.440715</td>\n",
       "      <td>0.018777</td>\n",
       "      <td>0.0</td>\n",
       "    </tr>\n",
       "    <tr>\n",
       "      <th>509</th>\n",
       "      <td>victorious</td>\n",
       "      <td>0.499755</td>\n",
       "      <td>0.506381</td>\n",
       "      <td>-0.935488</td>\n",
       "      <td>0.999938</td>\n",
       "      <td>0.520538</td>\n",
       "      <td>0.446017</td>\n",
       "      <td>-0.877451</td>\n",
       "      <td>0.999846</td>\n",
       "      <td>0.536692</td>\n",
       "      <td>...</td>\n",
       "      <td>-0.003256</td>\n",
       "      <td>0.0</td>\n",
       "      <td>0.567621</td>\n",
       "      <td>0.446864</td>\n",
       "      <td>0.017346</td>\n",
       "      <td>0.0</td>\n",
       "      <td>0.572241</td>\n",
       "      <td>0.440411</td>\n",
       "      <td>0.018305</td>\n",
       "      <td>0.0</td>\n",
       "    </tr>\n",
       "    <tr>\n",
       "      <th>510</th>\n",
       "      <td>victorious</td>\n",
       "      <td>0.504256</td>\n",
       "      <td>0.510282</td>\n",
       "      <td>-1.013135</td>\n",
       "      <td>0.999933</td>\n",
       "      <td>0.526404</td>\n",
       "      <td>0.447044</td>\n",
       "      <td>-0.953262</td>\n",
       "      <td>0.999827</td>\n",
       "      <td>0.541883</td>\n",
       "      <td>...</td>\n",
       "      <td>-0.005751</td>\n",
       "      <td>0.0</td>\n",
       "      <td>0.571042</td>\n",
       "      <td>0.448785</td>\n",
       "      <td>0.017998</td>\n",
       "      <td>0.0</td>\n",
       "      <td>0.575961</td>\n",
       "      <td>0.442152</td>\n",
       "      <td>0.018993</td>\n",
       "      <td>0.0</td>\n",
       "    </tr>\n",
       "  </tbody>\n",
       "</table>\n",
       "<p>5 rows × 2005 columns</p>\n",
       "</div>"
      ],
      "text/plain": [
       "          class        x1        y1        z1        v1        x2        y2  \\\n",
       "506  victorious  0.497044  0.506372 -0.907528  0.999970  0.515123  0.446296   \n",
       "507  victorious  0.497347  0.506405 -0.936294  0.999961  0.515397  0.446337   \n",
       "508  victorious  0.498790  0.506358 -0.922406  0.999951  0.518112  0.446252   \n",
       "509  victorious  0.499755  0.506381 -0.935488  0.999938  0.520538  0.446017   \n",
       "510  victorious  0.504256  0.510282 -1.013135  0.999933  0.526404  0.447044   \n",
       "\n",
       "           z2        v2        x3  ...      z499  v499      x500      y500  \\\n",
       "506 -0.864572  0.999940  0.531935  ... -0.000790   0.0  0.561646  0.447850   \n",
       "507 -0.877889  0.999909  0.532181  ... -0.001668   0.0  0.564035  0.447079   \n",
       "508 -0.861414  0.999881  0.534440  ... -0.002450   0.0  0.565755  0.447041   \n",
       "509 -0.877451  0.999846  0.536692  ... -0.003256   0.0  0.567621  0.446864   \n",
       "510 -0.953262  0.999827  0.541883  ... -0.005751   0.0  0.571042  0.448785   \n",
       "\n",
       "         z500  v500      x501      y501      z501  v501  \n",
       "506  0.019354   0.0  0.565955  0.441682  0.020391   0.0  \n",
       "507  0.018356   0.0  0.568506  0.440780  0.019356   0.0  \n",
       "508  0.017801   0.0  0.570280  0.440715  0.018777   0.0  \n",
       "509  0.017346   0.0  0.572241  0.440411  0.018305   0.0  \n",
       "510  0.017998   0.0  0.575961  0.442152  0.018993   0.0  \n",
       "\n",
       "[5 rows x 2005 columns]"
      ]
     },
     "execution_count": 98,
     "metadata": {},
     "output_type": "execute_result"
    }
   ],
   "source": [
    "df.tail()"
   ]
  },
  {
   "cell_type": "code",
   "execution_count": 99,
   "metadata": {},
   "outputs": [],
   "source": [
    "x=df.drop('class',axis=1)\n",
    "y=df[\"class\"]"
   ]
  },
  {
   "cell_type": "code",
   "execution_count": 101,
   "metadata": {},
   "outputs": [],
   "source": [
    "x_train,x_test,y_train,y_test=train_test_split(x,y,test_size=0.3,random_state=1234)"
   ]
  },
  {
   "cell_type": "code",
   "execution_count": 102,
   "metadata": {},
   "outputs": [],
   "source": [
    "from sklearn.pipeline import make_pipeline \n",
    "from sklearn.preprocessing import StandardScaler \n",
    "\n",
    "from sklearn.linear_model import LogisticRegression, RidgeClassifier\n",
    "from sklearn.ensemble import RandomForestClassifier, GradientBoostingClassifier"
   ]
  },
  {
   "cell_type": "code",
   "execution_count": 103,
   "metadata": {},
   "outputs": [],
   "source": [
    "pipelines = {\n",
    "    'lr':make_pipeline(StandardScaler(), LogisticRegression()),\n",
    "    'rc':make_pipeline(StandardScaler(), RidgeClassifier()),\n",
    "    'rf':make_pipeline(StandardScaler(), RandomForestClassifier()),\n",
    "    'gb':make_pipeline(StandardScaler(), GradientBoostingClassifier()),\n",
    "}"
   ]
  },
  {
   "cell_type": "code",
   "execution_count": 105,
   "metadata": {},
   "outputs": [],
   "source": [
    "fit_model={}\n",
    "for algo, pipeline in pipelines.items():\n",
    "    model=pipeline.fit(x_train,y_train)\n",
    "    fit_model[algo]=model"
   ]
  },
  {
   "cell_type": "code",
   "execution_count": 106,
   "metadata": {},
   "outputs": [
    {
     "data": {
      "text/plain": [
       "{'lr': Pipeline(steps=[('standardscaler', StandardScaler()),\n",
       "                 ('logisticregression', LogisticRegression())]),\n",
       " 'rc': Pipeline(steps=[('standardscaler', StandardScaler()),\n",
       "                 ('ridgeclassifier', RidgeClassifier())]),\n",
       " 'rf': Pipeline(steps=[('standardscaler', StandardScaler()),\n",
       "                 ('randomforestclassifier', RandomForestClassifier())]),\n",
       " 'gb': Pipeline(steps=[('standardscaler', StandardScaler()),\n",
       "                 ('gradientboostingclassifier', GradientBoostingClassifier())])}"
      ]
     },
     "execution_count": 106,
     "metadata": {},
     "output_type": "execute_result"
    }
   ],
   "source": [
    "fit_model"
   ]
  },
  {
   "cell_type": "code",
   "execution_count": 107,
   "metadata": {},
   "outputs": [],
   "source": [
    "from sklearn.metrics import accuracy_score # Accuracy metrics \n",
    "import pickle "
   ]
  },
  {
   "cell_type": "code",
   "execution_count": 110,
   "metadata": {},
   "outputs": [
    {
     "name": "stdout",
     "output_type": "stream",
     "text": [
      "lr 1.0\n",
      "rc 1.0\n",
      "rf 1.0\n",
      "gb 1.0\n"
     ]
    }
   ],
   "source": [
    "for algo, model in fit_model.items():\n",
    "    yhat = model.predict(x_test)\n",
    "    print(algo, accuracy_score(y_test, yhat))"
   ]
  },
  {
   "cell_type": "code",
   "execution_count": null,
   "metadata": {},
   "outputs": [],
   "source": [
    "fit_model['rf'].predict(x_test)\n"
   ]
  }
 ],
 "metadata": {
  "kernelspec": {
   "display_name": "base",
   "language": "python",
   "name": "python3"
  },
  "language_info": {
   "codemirror_mode": {
    "name": "ipython",
    "version": 3
   },
   "file_extension": ".py",
   "mimetype": "text/x-python",
   "name": "python",
   "nbconvert_exporter": "python",
   "pygments_lexer": "ipython3",
   "version": "3.12.4"
  }
 },
 "nbformat": 4,
 "nbformat_minor": 2
}
